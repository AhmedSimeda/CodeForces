{
 "cells": [
  {
   "cell_type": "code",
   "execution_count": 7,
   "metadata": {},
   "outputs": [
    {
     "name": "stdout",
     "output_type": "stream",
     "text": [
      "1110\n",
      "1010\n",
      "0100\n"
     ]
    }
   ],
   "source": [
    "num1  = int(input(), base=2)\n",
    "num2  = int(input(), base=2)\n",
    "n_len = max(len(bin(num1)[2:]), len(bin(num2)[2:]))\n",
    "res   = bin(num1^num2)[2:]                              #you can use also \"{0:b}\".format(37)\n",
    "r_len = len(res)\n",
    "print('0'*(n_len-r_len) + res)                          #XOR "
   ]
  },
  {
   "cell_type": "markdown",
   "metadata": {},
   "source": [
    "failed when i/p = 01110, 01100"
   ]
  },
  {
   "cell_type": "markdown",
   "metadata": {},
   "source": [
    "### Another Approach"
   ]
  },
  {
   "cell_type": "code",
   "execution_count": 16,
   "metadata": {},
   "outputs": [
    {
     "name": "stdout",
     "output_type": "stream",
     "text": [
      "01110\n",
      "01100\n",
      "00010\n"
     ]
    }
   ],
   "source": [
    "def XOR(num1, num2):\n",
    "    out = ''\n",
    "    for n1, n2 in zip(num1, num2):\n",
    "        if n1 != n2:\n",
    "            out += '1'   \n",
    "        else:\n",
    "            out += '0'\n",
    "    print(out)\n",
    "    \n",
    "num1  = input()\n",
    "num2  = input()\n",
    "\n",
    "XOR(num1, num2)"
   ]
  },
  {
   "cell_type": "code",
   "execution_count": null,
   "metadata": {},
   "outputs": [],
   "source": []
  }
 ],
 "metadata": {
  "kernelspec": {
   "display_name": "Python 3",
   "language": "python",
   "name": "python3"
  },
  "language_info": {
   "codemirror_mode": {
    "name": "ipython",
    "version": 3
   },
   "file_extension": ".py",
   "mimetype": "text/x-python",
   "name": "python",
   "nbconvert_exporter": "python",
   "pygments_lexer": "ipython3",
   "version": "3.8.3"
  }
 },
 "nbformat": 4,
 "nbformat_minor": 4
}
