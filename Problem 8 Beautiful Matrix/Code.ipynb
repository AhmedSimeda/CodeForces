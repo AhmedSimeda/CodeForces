{
 "cells": [
  {
   "cell_type": "code",
   "execution_count": 2,
   "metadata": {},
   "outputs": [
    {
     "name": "stdout",
     "output_type": "stream",
     "text": [
      "0 0 0 0 0\n",
      "0 0 0 0 0\n",
      "0 1 0 0 0\n",
      "0 0 0 0 0\n",
      "0 0 0 0 0\n",
      "1\n"
     ]
    }
   ],
   "source": [
    "for r in range(5):\n",
    "    m = list(map(int,input().split()))\n",
    "    if 1 in m:\n",
    "        row = r+1\n",
    "        col = m.index(1)+1\n",
    "print(abs(3-col)+abs(3-row))    "
   ]
  },
  {
   "cell_type": "code",
   "execution_count": null,
   "metadata": {},
   "outputs": [],
   "source": []
  }
 ],
 "metadata": {
  "kernelspec": {
   "display_name": "Python 3",
   "language": "python",
   "name": "python3"
  },
  "language_info": {
   "codemirror_mode": {
    "name": "ipython",
    "version": 3
   },
   "file_extension": ".py",
   "mimetype": "text/x-python",
   "name": "python",
   "nbconvert_exporter": "python",
   "pygments_lexer": "ipython3",
   "version": "3.8.3"
  }
 },
 "nbformat": 4,
 "nbformat_minor": 4
}
