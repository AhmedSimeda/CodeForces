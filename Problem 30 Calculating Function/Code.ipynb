{
 "cells": [
  {
   "cell_type": "markdown",
   "metadata": {},
   "source": [
    "We will treat it as arthmetic Series : \n",
    "\n",
    "<center> (even_numbers_sum) - (odd_numbers_sum) <center\\>\n",
    "    \n",
    "and we will use the following formula to calculate the some of an arthmetic series :\n",
    "$$ n*(\\frac{a_1+a_n}{2}) $$"
   ]
  },
  {
   "cell_type": "code",
   "execution_count": 9,
   "metadata": {},
   "outputs": [
    {
     "name": "stdout",
     "output_type": "stream",
     "text": [
      "1000000000\n",
      "500000000\n"
     ]
    }
   ],
   "source": [
    "def f(n):\n",
    "    # sum of even_numbers\n",
    "    ## first of all we need to determine n_even, a_1, a_n\n",
    "    n_even, a_1, a_n = n//2, 2, n if n%2==0 else n-1\n",
    "    even_sum = n_even*((a_1+a_n)//2)\n",
    "    \n",
    "    # similarly let's get the sum of odd numbers\n",
    "    n_odd, a_1, a_n  = n-n//2, 1, n if n%2!=0 else n-1\n",
    "    odd_sum  = n_odd*((a_1+a_n)//2)\n",
    "    \n",
    "    print(even_sum - odd_sum)\n",
    "    \n",
    "f(int(input()))"
   ]
  },
  {
   "cell_type": "code",
   "execution_count": null,
   "metadata": {},
   "outputs": [],
   "source": []
  }
 ],
 "metadata": {
  "kernelspec": {
   "display_name": "Python 3",
   "language": "python",
   "name": "python3"
  },
  "language_info": {
   "codemirror_mode": {
    "name": "ipython",
    "version": 3
   },
   "file_extension": ".py",
   "mimetype": "text/x-python",
   "name": "python",
   "nbconvert_exporter": "python",
   "pygments_lexer": "ipython3",
   "version": "3.8.3"
  }
 },
 "nbformat": 4,
 "nbformat_minor": 4
}
