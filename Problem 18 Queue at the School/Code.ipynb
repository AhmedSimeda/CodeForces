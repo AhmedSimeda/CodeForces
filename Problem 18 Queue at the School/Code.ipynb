{
 "cells": [
  {
   "cell_type": "code",
   "execution_count": 6,
   "metadata": {},
   "outputs": [
    {
     "name": "stdout",
     "output_type": "stream",
     "text": [
      "4 1\n",
      "GGGB\n",
      "GGGB\n"
     ]
    }
   ],
   "source": [
    "n, t = tuple(map(int,input().split()))\n",
    "Queue = input()\n",
    "for _ in range(t):\n",
    "    B_idx = [i for i in range(len(Queue)) if (Queue[i] == 'B') and (i != len(Queue)-1)]\n",
    "    for idx in B_idx:\n",
    "        if (Queue[idx] == 'B') and (Queue[idx+1] == 'G'):\n",
    "            if idx < len(Queue)-2:\n",
    "                Queue = Queue[:idx] + 'GB' + Queue[idx+2:]\n",
    "            else:\n",
    "                Queue = Queue[:idx] + 'GB'\n",
    "print(Queue)"
   ]
  },
  {
   "cell_type": "code",
   "execution_count": null,
   "metadata": {},
   "outputs": [],
   "source": []
  }
 ],
 "metadata": {
  "kernelspec": {
   "display_name": "Python 3",
   "language": "python",
   "name": "python3"
  },
  "language_info": {
   "codemirror_mode": {
    "name": "ipython",
    "version": 3
   },
   "file_extension": ".py",
   "mimetype": "text/x-python",
   "name": "python",
   "nbconvert_exporter": "python",
   "pygments_lexer": "ipython3",
   "version": "3.8.3"
  }
 },
 "nbformat": 4,
 "nbformat_minor": 4
}
