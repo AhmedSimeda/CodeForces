{
 "cells": [
  {
   "cell_type": "code",
   "execution_count": 12,
   "metadata": {},
   "outputs": [
    {
     "name": "stdout",
     "output_type": "stream",
     "text": [
      "2\n",
      "3\n",
      "4\n",
      "5\n",
      "24\n",
      "17\n"
     ]
    }
   ],
   "source": [
    "k, l, m, n, d = int(input()), int(input()), int(input()), int(input()), int(input())\n",
    "harmed = set(range(k,d+1,k)) | set(range(l,d+1,l)) | set(range(m,d+1,m)) | set(range(n,d+1,n))\n",
    "\n",
    "print(len(harmed))  #unharmed"
   ]
  },
  {
   "cell_type": "code",
   "execution_count": null,
   "metadata": {},
   "outputs": [],
   "source": []
  }
 ],
 "metadata": {
  "kernelspec": {
   "display_name": "Python 3",
   "language": "python",
   "name": "python3"
  },
  "language_info": {
   "codemirror_mode": {
    "name": "ipython",
    "version": 3
   },
   "file_extension": ".py",
   "mimetype": "text/x-python",
   "name": "python",
   "nbconvert_exporter": "python",
   "pygments_lexer": "ipython3",
   "version": "3.8.3"
  }
 },
 "nbformat": 4,
 "nbformat_minor": 4
}
