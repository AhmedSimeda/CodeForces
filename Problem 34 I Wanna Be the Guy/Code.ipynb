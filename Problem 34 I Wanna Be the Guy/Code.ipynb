{
 "cells": [
  {
   "cell_type": "code",
   "execution_count": 8,
   "metadata": {},
   "outputs": [
    {
     "name": "stdout",
     "output_type": "stream",
     "text": [
      "3\n",
      "1 2\n",
      "2 2 3\n",
      "Oh, my keyboard!\n"
     ]
    }
   ],
   "source": [
    "levels, x, y = int(input()), set(map(int,input().split()[1:])), set(map(int,input().split()[1:]))\n",
    "\n",
    "print(\"I become the guy.\" if len(set(range(1,levels+1))-(x|y)) == 0 else \"Oh, my keyboard!\")"
   ]
  },
  {
   "cell_type": "code",
   "execution_count": null,
   "metadata": {},
   "outputs": [],
   "source": []
  }
 ],
 "metadata": {
  "kernelspec": {
   "display_name": "Python 3",
   "language": "python",
   "name": "python3"
  },
  "language_info": {
   "codemirror_mode": {
    "name": "ipython",
    "version": 3
   },
   "file_extension": ".py",
   "mimetype": "text/x-python",
   "name": "python",
   "nbconvert_exporter": "python",
   "pygments_lexer": "ipython3",
   "version": "3.8.3"
  }
 },
 "nbformat": 4,
 "nbformat_minor": 4
}
